{
 "cells": [
  {
   "cell_type": "markdown",
   "metadata": {},
   "source": [
    "# Saurabh Pradhan\n",
    "## 277643"
   ]
  },
  {
   "cell_type": "markdown",
   "metadata": {},
   "source": [
    "## Neural network setup"
   ]
  },
  {
   "cell_type": "markdown",
   "metadata": {},
   "source": [
    "## The general setup of neural network is as follows :-\n",
    "The input to the neural network is a vector of dimension (m , 1) where m it the total no of features, bias excluded.<br /> The dimensions of bias is (m, 1)\n",
    "From m dimensional layer to other n dimensional layer a weight matrix is attached. The dimension of this weight matrix is (m, n) <br/>"
   ]
  },
  {
   "cell_type": "code",
   "execution_count": 845,
   "metadata": {},
   "outputs": [
    {
     "data": {
      "text/html": [
       "<style>.container { width:100% !important; }</style>"
      ],
      "text/plain": [
       "<IPython.core.display.HTML object>"
      ]
     },
     "metadata": {},
     "output_type": "display_data"
    }
   ],
   "source": [
    "from IPython.core.display import display, HTML\n",
    "display(HTML(\"<style>.container { width:100% !important; }</style>\"))"
   ]
  },
  {
   "cell_type": "markdown",
   "metadata": {},
   "source": [
    "## Loss Functions"
   ]
  },
  {
   "cell_type": "code",
   "execution_count": 846,
   "metadata": {},
   "outputs": [],
   "source": [
    "def squaredError(y, yPrediction, derivative = False):\n",
    "    if derivative == False:\n",
    "        return np.sum(((y - yPrediction) ** 2))\n",
    "    else:\n",
    "        return -1 * (y - yPrediction)"
   ]
  },
  {
   "cell_type": "markdown",
   "metadata": {},
   "source": [
    "## Activation Functions"
   ]
  },
  {
   "cell_type": "code",
   "execution_count": 847,
   "metadata": {},
   "outputs": [],
   "source": [
    "import numpy as np\n",
    "\n",
    "def relu(x, derivative = False):\n",
    "    if derivative == False:\n",
    "        return np.maximum(x, 0)\n",
    "    else:\n",
    "        \"\"\"Deep copy\"\"\"\n",
    "        x = x.copy()\n",
    "        x[x<0] = 0\n",
    "        x[x>0] = 1\n",
    "        return x\n",
    "\n",
    "def linearActivation(x, derivative = False):\n",
    "    if derivative == False:\n",
    "        return x\n",
    "    else:\n",
    "        return 1"
   ]
  },
  {
   "cell_type": "code",
   "execution_count": 848,
   "metadata": {},
   "outputs": [],
   "source": [
    "def L1Regularization(gradients):\n",
    "    \"\"\"Deep copy\"\"\"\n",
    "    gradients = gradients.copy()\n",
    "    gradients[gradients > 0] = 1\n",
    "    gradients[gradients <= 0] = -1\n",
    "    \n",
    "    return gradients"
   ]
  },
  {
   "cell_type": "code",
   "execution_count": null,
   "metadata": {},
   "outputs": [],
   "source": [
    "def L2Regularization(gradients):\n",
    "    return gradients"
   ]
  },
  {
   "cell_type": "markdown",
   "metadata": {},
   "source": [
    "## Neural network"
   ]
  },
  {
   "cell_type": "code",
   "execution_count": 849,
   "metadata": {},
   "outputs": [],
   "source": [
    "from enum import Enum\n",
    "\n",
    "class STRUCTURE(Enum):\n",
    "    WEIGHTMATRIX = \"weightMatrix\"\n",
    "    ACTIVATIONFUNCTION = \"activationFunction\"\n",
    "    BIAS = \"bias\"\n",
    "    INITIALLAYER = \"initialLayer\"\n",
    "    REGULARIZATION = \"regularization\"\n",
    "    REGULARIZATIONPENALTY = \"regularizationPenalty\"\n",
    "    \n",
    "\n",
    "class NeuralNetwork:\n",
    "    \n",
    "    networkStructure = None\n",
    "    lossFunction = None\n",
    "            \n",
    "    def __init__(self, networkStructure, lossFunction):\n",
    "        self.networkStructure = networkStructure\n",
    "        self.lossFunction = lossFunction\n",
    "    \n",
    "    def forwardPropogationStep(self, x, retainIntermediateValues = False):\n",
    "        output = x\n",
    "        intermediateValues = []\n",
    "        for layer in self.networkStructure:\n",
    "                aggregation = np.dot(output, layer[STRUCTURE.WEIGHTMATRIX]) + layer[STRUCTURE.BIAS]\n",
    "                if retainIntermediateValues == True:\n",
    "                    intermediateValues.append([output, aggregation])\n",
    "\n",
    "                output = layer[STRUCTURE.ACTIVATIONFUNCTION](aggregation)\n",
    "        return output, intermediateValues\n",
    "\n",
    "    def backPropogationStep(self, x, y, learningRate):\n",
    "        prediction, intermediateValues = self.forwardPropogationStep(x, True)\n",
    "        loss = self.lossFunction(y, prediction)\n",
    "        #print(\"Calculated loss at end of forward propogation \" +str(loss))\n",
    "        backPropogationComponent = self.lossFunction(y, prediction, derivative = True)\n",
    "        for layer, intermediateValue in zip(reversed(self.networkStructure), reversed(intermediateValues)):\n",
    "            \n",
    "            backPropogationComponent = backPropogationComponent * layer[STRUCTURE.ACTIVATIONFUNCTION](intermediateValue[1], \n",
    "                                                                                            derivative = True)\n",
    "            \"\"\"Update weights in current layer\"\"\"\n",
    "            weightGradient = intermediateValue[0].T * backPropogationComponent\n",
    "            biasGradient = 1 * backPropogationComponent\n",
    "            \n",
    "            regularization = 0\n",
    "            if STRUCTURE.REGULARIZATION in layer:\n",
    "                regularization = layer[STRUCTURE.REGULARIZATION](weightGradient)\n",
    "                regularization = regularization * layer[STRUCTURE.REGULARIZATIONPENALTY]\n",
    "            \n",
    "            \"\"\"Dirty update\"\"\"\n",
    "            layer[STRUCTURE.WEIGHTMATRIX] = layer[STRUCTURE.WEIGHTMATRIX] - learningRate * (weightGradient +\n",
    "                                                                                            regularization)\n",
    "            layer[STRUCTURE.BIAS] = layer[STRUCTURE.BIAS] - learningRate * biasGradient\n",
    "                       \n",
    "            \n",
    "            if layer[STRUCTURE.INITIALLAYER] == True:\n",
    "                break\n",
    "            \n",
    "            \"\"\"Update in the previous layer depends on the output of activation function\"\"\"\n",
    "            backPropogationComponent = backPropogationComponent * layer[STRUCTURE.WEIGHTMATRIX].T"
   ]
  },
  {
   "cell_type": "markdown",
   "metadata": {},
   "source": [
    "## XOR"
   ]
  },
  {
   "cell_type": "code",
   "execution_count": 850,
   "metadata": {},
   "outputs": [],
   "source": [
    "structure = [\n",
    "    {\n",
    "        STRUCTURE.WEIGHTMATRIX:np.random.normal(size = (2, 2)),\n",
    "        STRUCTURE.BIAS: np.ones(2).reshape(1, 2),\n",
    "        STRUCTURE.ACTIVATIONFUNCTION : linearActivation,\n",
    "        STRUCTURE.INITIALLAYER:True,\n",
    "        STRUCTURE.REGULARIZATION:L1Regularization,\n",
    "        STRUCTURE.REGULARIZATIONPENALTY:0.01\n",
    "    }\n",
    "    ,\n",
    "    {\n",
    "        STRUCTURE.WEIGHTMATRIX:np.random.normal(size = (2, 1)),\n",
    "        STRUCTURE.BIAS: np.ones(1).reshape(1, 1),\n",
    "        STRUCTURE.ACTIVATIONFUNCTION : relu,\n",
    "        STRUCTURE.INITIALLAYER:False,\n",
    "        STRUCTURE.REGULARIZATION:L1Regularization,\n",
    "        STRUCTURE.REGULARIZATIONPENALTY:0.01\n",
    "    }\n",
    "]\n",
    "\n",
    "nn = NeuralNetwork(structure, squaredError)"
   ]
  },
  {
   "cell_type": "code",
   "execution_count": 851,
   "metadata": {},
   "outputs": [],
   "source": [
    "inputData = np.array([1, 1, -1, 1, 1, -1, -1, -1]).reshape(-1, 2)\n",
    "output = np.array([1, 0, 0, 1])"
   ]
  },
  {
   "cell_type": "code",
   "execution_count": 852,
   "metadata": {},
   "outputs": [],
   "source": [
    "prediction = []\n",
    "for x,y in zip(inputData, output):\n",
    "    yPred = nn.forwardPropogationStep(x)\n",
    "    prediction.append(yPred[0][0])"
   ]
  },
  {
   "cell_type": "code",
   "execution_count": 853,
   "metadata": {},
   "outputs": [],
   "source": [
    "squaredError(output, prediction)\n",
    "loss = []"
   ]
  },
  {
   "cell_type": "code",
   "execution_count": 854,
   "metadata": {
    "scrolled": false
   },
   "outputs": [],
   "source": [
    "from random import shuffle\n",
    "indices = [0, 1, 2, 3]\n",
    "for i in range(0, 100):\n",
    "    \n",
    "    shuffle(indices)\n",
    "    for i in indices:\n",
    "        nn.backPropogationStep(inputData[i], output[i], 0.01)\n",
    "        prediction = []\n",
    "    for x,y in zip(inputData, output):\n",
    "        yPred = nn.forwardPropogationStep(x)\n",
    "        prediction.append(yPred[0][0])\n",
    "    squaredloss = squaredError(prediction, output)\n",
    "    loss.append(squaredloss)\n",
    "    if squaredloss > loss[-1]:\n",
    "        print(\"Converged\")\n",
    "        break"
   ]
  },
  {
   "cell_type": "code",
   "execution_count": 855,
   "metadata": {},
   "outputs": [
    {
     "data": {
      "image/png": "[encoded data removed]",
      "text/plain": [
       "<Figure size 432x288 with 1 Axes>"
      ]
     },
     "metadata": {},
     "output_type": "display_data"
    }
   ],
   "source": [
    "import matplotlib.pyplot as plt\n",
    "plt.plot(loss)\n",
    "plt.show()"
   ]
  }
 ],
 "metadata": {
  "kernelspec": {
   "display_name": "Python 3",
   "language": "python",
   "name": "python3"
  },
  "language_info": {
   "codemirror_mode": {
    "name": "ipython",
    "version": 3
   },
   "file_extension": ".py",
   "mimetype": "text/x-python",
   "name": "python",
   "nbconvert_exporter": "python",
   "pygments_lexer": "ipython3",
   "version": "3.5.2"
  }
 },
 "nbformat": 4,
 "nbformat_minor": 2
}
